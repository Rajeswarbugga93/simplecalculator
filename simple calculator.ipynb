{
 "cells": [
  {
   "cell_type": "code",
   "execution_count": null,
   "id": "522bd1b4-3e5f-4386-bb0c-682c3bc58f12",
   "metadata": {},
   "outputs": [
    {
     "name": "stdout",
     "output_type": "stream",
     "text": [
      "Select operation.\n",
      "1.Add\n",
      "2.Subtract\n",
      "3.Multiply\n",
      "4.Divide\n"
     ]
    },
    {
     "name": "stdin",
     "output_type": "stream",
     "text": [
      "Enter choice(1/2/3/4):  3\n",
      "Enter first number:  6\n",
      "Enter second number:  5\n",
      "Enter second number:  4\n"
     ]
    },
    {
     "name": "stdout",
     "output_type": "stream",
     "text": [
      "( 6.0 * 5.0 ) = 30.0\n",
      "30.0 * 4.0 = 120.0\n",
      "Your Answer is 120.0\n"
     ]
    },
    {
     "name": "stdin",
     "output_type": "stream",
     "text": [
      "Let's do next calculation? (yes/no):  4\n",
      "Enter choice(1/2/3/4):  4\n",
      "Enter first number:  8462\n",
      "Enter second number:  642\n",
      "Enter second number:  2\n"
     ]
    },
    {
     "name": "stdout",
     "output_type": "stream",
     "text": [
      "( 8462.0 / 642.0 ) = 13.180685358255452\n",
      "13.180685358255452 / 2.0 = 6.590342679127726\n",
      "Your Answer is 6.590342679127726\n"
     ]
    }
   ],
   "source": [
    "# This function adds two numbers\n",
    "def add(x, y):\n",
    "    return x + y\n",
    "\n",
    "# This function subtracts two numbers\n",
    "def subtract(x, y):\n",
    "    return x - y\n",
    "\n",
    "# This function multiplies two numbers\n",
    "def multiply(x, y):\n",
    "    return x * y\n",
    "\n",
    "# This function divides two numbers\n",
    "def divide(x, y):\n",
    "    return x / y\n",
    "\n",
    "\n",
    "print(\"Select operation.\")\n",
    "print(\"1.Add\")\n",
    "print(\"2.Subtract\")\n",
    "print(\"3.Multiply\")\n",
    "print(\"4.Divide\")\n",
    "\n",
    "while True:\n",
    "    # take input from the user\n",
    "    choice = input(\"Enter choice(1/2/3/4): \")\n",
    "\n",
    "    # check if choice is one of the four options\n",
    "    if choice in ('1', '2', '3', '4'):\n",
    "        try:\n",
    "            num1 = float(input(\"Enter first number: \"))\n",
    "            num2 = float(input(\"Enter second number: \"))\n",
    "            num3 = float(input(\"Enter second number: \"))\n",
    "        except ValueError:\n",
    "            print(\"Invalid input. Please enter a number.\")\n",
    "            continue\n",
    "\n",
    "        if choice == '1':\n",
    "            print(\"(\",num1, \"+\", num2,\")\",\"=\",add(num1, num2))\n",
    "            print(add(num1, num2),\"+\",num3, \"=\", add(add(num1, num2),num3))\n",
    "            print(\"Your Answer is\", add(add(num1, num2),num3))\n",
    "\n",
    "        elif choice == '2':\n",
    "            print(\"(\",num1, \"-\", num2,\")\",\"=\",subtract(num1, num2))\n",
    "            print(subtract(num1, num2),\"-\",num3, \"=\", subtract(subtract(num1, num2),num3))\n",
    "            print(\"Your Answer is\", subtract(subtract(num1, num2),num3))\n",
    "        elif choice == '3':\n",
    "            print(\"(\",num1, \"*\", num2,\")\",\"=\",multiply(num1, num2))\n",
    "            print(multiply(num1, num2),\"*\",num3, \"=\", multiply(multiply(num1, num2),num3))\n",
    "            print(\"Your Answer is\", multiply(multiply(num1, num2),num3))\n",
    "        elif choice == '4':\n",
    "            print(\"(\",num1, \"/\", num2,\")\",\"=\",divide(num1, num2))\n",
    "            print(divide(num1, num2),\"/\",num3, \"=\", divide(divide(num1, num2),num3))\n",
    "            print(\"Your Answer is\", divide(divide(num1, num2),num3))\n",
    "        # check if user wants another calculation\n",
    "        # break the while loop if answer is no\n",
    "        next_calculation = input(\"Let's do next calculation? (yes/no): \")\n",
    "        if next_calculation == \"no\":\n",
    "          break\n",
    "    else:\n",
    "        print(\"Invalid Input\")"
   ]
  },
  {
   "cell_type": "code",
   "execution_count": null,
   "id": "b01bb8c8-8224-45e4-a577-b0e632f90886",
   "metadata": {},
   "outputs": [],
   "source": []
  }
 ],
 "metadata": {
  "kernelspec": {
   "display_name": "Python 3 (ipykernel)",
   "language": "python",
   "name": "python3"
  },
  "language_info": {
   "codemirror_mode": {
    "name": "ipython",
    "version": 3
   },
   "file_extension": ".py",
   "mimetype": "text/x-python",
   "name": "python",
   "nbconvert_exporter": "python",
   "pygments_lexer": "ipython3",
   "version": "3.12.4"
  }
 },
 "nbformat": 4,
 "nbformat_minor": 5
}
